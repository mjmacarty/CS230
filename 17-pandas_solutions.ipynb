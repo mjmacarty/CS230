{
 "cells": [
  {
   "cell_type": "markdown",
   "id": "creative-documentary",
   "metadata": {},
   "source": [
    "# Working with DataFrames & Series - indexes"
   ]
  },
  {
   "cell_type": "code",
   "execution_count": 1,
   "id": "alleged-withdrawal",
   "metadata": {},
   "outputs": [],
   "source": [
    "import numpy as np\n",
    "import pandas as pd\n",
    "import matplotlib.pyplot as plt"
   ]
  },
  {
   "cell_type": "code",
   "execution_count": null,
   "id": "weighted-dialogue",
   "metadata": {},
   "outputs": [],
   "source": [
    "titles = pd.read_csv('data/titles.csv')\n",
    "titles.head()"
   ]
  },
  {
   "cell_type": "code",
   "execution_count": null,
   "id": "artistic-voice",
   "metadata": {},
   "outputs": [],
   "source": [
    "%time\n",
    "cast = pd.read_csv('data/cast.csv')\n",
    "cast.head()"
   ]
  },
  {
   "cell_type": "code",
   "execution_count": null,
   "id": "trained-continuity",
   "metadata": {},
   "outputs": [],
   "source": []
  },
  {
   "cell_type": "code",
   "execution_count": 158,
   "id": "seventh-polymer",
   "metadata": {},
   "outputs": [],
   "source": [
    "# When I do something like this I am asking the question 3.7 million times\n",
    "%time\n",
    "cast[cast.title == 'Sleuth']"
   ]
  },
  {
   "cell_type": "code",
   "execution_count": null,
   "id": "voluntary-saskatchewan",
   "metadata": {},
   "outputs": [],
   "source": [
    "# iloc vs loc"
   ]
  },
  {
   "cell_type": "code",
   "execution_count": null,
   "id": "controlling-edinburgh",
   "metadata": {},
   "outputs": [],
   "source": [
    "c = cast.set_index(['title'])\n",
    "c.head()"
   ]
  },
  {
   "cell_type": "code",
   "execution_count": null,
   "id": "ecological-pittsburgh",
   "metadata": {},
   "outputs": [],
   "source": [
    "%time\n",
    "c.loc['Sleuth'].head()"
   ]
  },
  {
   "cell_type": "code",
   "execution_count": 160,
   "id": "sunset-school",
   "metadata": {},
   "outputs": [],
   "source": [
    "# indexes are better if they are ordered\n",
    "# index takes time to build but after that it operates much faster\n",
    "# when I do this Python uses a different method of finding -does not do it\n",
    "# 3.7 million times\n",
    "c = cast.set_index(['title']).sort_index()\n",
    "c.head()"
   ]
  },
  {
   "cell_type": "code",
   "execution_count": null,
   "id": "dominican-reach",
   "metadata": {},
   "outputs": [],
   "source": [
    "%time\n",
    "c.loc['Sleuth']"
   ]
  },
  {
   "cell_type": "code",
   "execution_count": null,
   "id": "focused-february",
   "metadata": {},
   "outputs": [],
   "source": [
    "c = cast.set_index(['title', 'year']).sort_index()\n",
    "c.head()"
   ]
  },
  {
   "cell_type": "code",
   "execution_count": null,
   "id": "fifty-junction",
   "metadata": {},
   "outputs": [],
   "source": [
    "%time\n",
    "c.loc['The Wizard of Oz'].head()"
   ]
  },
  {
   "cell_type": "code",
   "execution_count": null,
   "id": "headed-dimension",
   "metadata": {},
   "outputs": [],
   "source": [
    "c.loc['Sleuth'].loc[1972]"
   ]
  },
  {
   "cell_type": "code",
   "execution_count": null,
   "id": "improving-windows",
   "metadata": {},
   "outputs": [],
   "source": [
    "c.loc['Sleuth', 1972]"
   ]
  },
  {
   "cell_type": "code",
   "execution_count": null,
   "id": "intended-participant",
   "metadata": {},
   "outputs": [],
   "source": [
    "# if you need to remove\n",
    "c.loc['Sleuth', 1972].reset_index('year')"
   ]
  },
  {
   "cell_type": "code",
   "execution_count": null,
   "id": "funky-recorder",
   "metadata": {},
   "outputs": [],
   "source": [
    "c.loc['Sleuth', 1972].reset_index(['title','year'])"
   ]
  },
  {
   "cell_type": "code",
   "execution_count": 62,
   "id": "sticky-ancient",
   "metadata": {},
   "outputs": [],
   "source": [
    "# groupby\n",
    "c.reset_index(inplace=True)"
   ]
  },
  {
   "cell_type": "code",
   "execution_count": 162,
   "id": "protected-reading",
   "metadata": {},
   "outputs": [],
   "source": [
    "# have to use an aggregator, first, last, sum, size, etc\n",
    "cast = pd.read_csv('data/cast.csv')\n",
    "c = cast[cast.name == 'Natalie Portman'] \n",
    "c.head()"
   ]
  },
  {
   "cell_type": "code",
   "execution_count": 163,
   "id": "graduate-nancy",
   "metadata": {},
   "outputs": [],
   "source": [
    "# spits out a series --> whatever you group on becomes the index\n",
    "c.sort_values(by='year').groupby(['year', \n",
    "                                  'title', 'character']).first().head()"
   ]
  },
  {
   "cell_type": "code",
   "execution_count": null,
   "id": "arctic-efficiency",
   "metadata": {},
   "outputs": [],
   "source": [
    "c.sort_values(by='year').groupby(['year']).size()"
   ]
  },
  {
   "cell_type": "code",
   "execution_count": null,
   "id": "pediatric-extent",
   "metadata": {},
   "outputs": [],
   "source": [
    "c.sort_values(by='year').groupby(['year']).size().plot(kind='bar');"
   ]
  },
  {
   "cell_type": "code",
   "execution_count": null,
   "id": "fluid-donor",
   "metadata": {},
   "outputs": [],
   "source": [
    "c.sort_values(by='year').groupby(['year']).size().plot(style='^');"
   ]
  },
  {
   "cell_type": "code",
   "execution_count": 98,
   "id": "excellent-flush",
   "metadata": {},
   "outputs": [
    {
     "data": {
      "text/plain": [
       "year\n",
       "2000    1.0\n",
       "2008    1.0\n",
       "2006    2.0\n",
       "2013    2.0\n",
       "2002    2.0\n",
       "Name: n, dtype: float64"
      ]
     },
     "execution_count": 98,
     "metadata": {},
     "output_type": "execute_result"
    }
   ],
   "source": [
    "c.sort_values(by='year').groupby(['year']).n.max().sort_values().head()"
   ]
  },
  {
   "cell_type": "code",
   "execution_count": 94,
   "id": "clear-tongue",
   "metadata": {},
   "outputs": [
    {
     "data": {
      "text/plain": [
       "year\n",
       "1990    13\n",
       "2000    20\n",
       "2010    10\n",
       "dtype: int64"
      ]
     },
     "execution_count": 94,
     "metadata": {},
     "output_type": "execute_result"
    }
   ],
   "source": [
    "# can group by an expression (may be better to group on column name)\n",
    "c.groupby(c.year // 10 * 10).size()"
   ]
  },
  {
   "cell_type": "code",
   "execution_count": 102,
   "id": "judicial-import",
   "metadata": {},
   "outputs": [],
   "source": [
    "c = cast\n",
    "c.groupby([c.year // 10 * 10, 'type']).size()"
   ]
  },
  {
   "cell_type": "code",
   "execution_count": 157,
   "id": "crucial-expression",
   "metadata": {},
   "outputs": [],
   "source": [
    "# Columns are also an index --> unstack and stack for indexing on column\n",
    "# and unstack(0)\n",
    "c.groupby([c.year // 10 * 10, 'type']).size().unstack()"
   ]
  },
  {
   "cell_type": "code",
   "execution_count": null,
   "id": "proper-magnet",
   "metadata": {},
   "outputs": [],
   "source": [
    "unstacked = c.groupby([c.year // 10 * 10, 'type']).size().unstack()\n",
    "(unstacked['actress'] / unstacked['actor']).plot(style='o') "
   ]
  },
  {
   "cell_type": "code",
   "execution_count": 156,
   "id": "opposite-thursday",
   "metadata": {},
   "outputs": [],
   "source": [
    "# .fillna(value), i.e. 0\n",
    "# set ylim later\n",
    "(unstacked['actor'] - unstacked['actress']).plot(ylim=(-5000,300000)) "
   ]
  },
  {
   "cell_type": "code",
   "execution_count": 130,
   "id": "unnecessary-andorra",
   "metadata": {},
   "outputs": [
    {
     "name": "stdout",
     "output_type": "stream",
     "text": [
      "<class 'pandas.core.frame.DataFrame'>\n",
      "RangeIndex: 443486 entries, 0 to 443485\n",
      "Data columns (total 4 columns):\n",
      " #   Column   Non-Null Count   Dtype         \n",
      "---  ------   --------------   -----         \n",
      " 0   title    443486 non-null  object        \n",
      " 1   year     443486 non-null  int64         \n",
      " 2   country  443486 non-null  object        \n",
      " 3   date     443486 non-null  datetime64[ns]\n",
      "dtypes: datetime64[ns](1), int64(1), object(2)\n",
      "memory usage: 13.5+ MB\n"
     ]
    }
   ],
   "source": [
    "release = pd.read_csv(\n",
    "    'data/release_dates.csv',\n",
    "    parse_dates=['date'],\n",
    "    infer_datetime_format=True,\n",
    ")\n",
    "release.info()"
   ]
  },
  {
   "cell_type": "code",
   "execution_count": 155,
   "id": "connected-behavior",
   "metadata": {},
   "outputs": [],
   "source": [
    "# dayofweek, dayofyear, \n",
    "r = release\n",
    "r.date.dt.day"
   ]
  },
  {
   "cell_type": "code",
   "execution_count": null,
   "id": "exterior-faith",
   "metadata": {},
   "outputs": [],
   "source": [
    "# merge --> works easily if you have two columns of the \n",
    "# same name (with the same data)\n",
    "c = cast[cast.name == 'Natalie Portman']\n",
    "dates = c.merge(r)\n",
    "dates[dates['country'] == 'USA']"
   ]
  },
  {
   "cell_type": "code",
   "execution_count": null,
   "id": "tamil-sending",
   "metadata": {},
   "outputs": [],
   "source": [
    "c = cast[(cast['name'] == 'Natalie Portman') & (cast.n <= 2)]\n",
    "c = c.merge(cast, on=['title', 'year'])\n",
    "c = c[c.n_y <= 2]\n",
    "c[c.name_y != 'Natalie Portman']"
   ]
  },
  {
   "cell_type": "code",
   "execution_count": null,
   "id": "quantitative-plymouth",
   "metadata": {},
   "outputs": [],
   "source": []
  },
  {
   "cell_type": "code",
   "execution_count": null,
   "id": "bigger-illustration",
   "metadata": {},
   "outputs": [],
   "source": []
  },
  {
   "cell_type": "code",
   "execution_count": null,
   "id": "convinced-preparation",
   "metadata": {},
   "outputs": [],
   "source": []
  },
  {
   "cell_type": "markdown",
   "id": "coupled-shade",
   "metadata": {},
   "source": [
    "# Problems"
   ]
  },
  {
   "cell_type": "markdown",
   "id": "champion-straight",
   "metadata": {},
   "source": [
    "#### 1. Plot the number of films released each decade over time "
   ]
  },
  {
   "cell_type": "code",
   "execution_count": null,
   "id": "vietnamese-termination",
   "metadata": {},
   "outputs": [],
   "source": []
  },
  {
   "cell_type": "markdown",
   "id": "primary-blast",
   "metadata": {},
   "source": [
    "#### 2. How many leading (n=1) roles were available to actors, and how many to actresses, in each year of the 2000's?"
   ]
  },
  {
   "cell_type": "code",
   "execution_count": null,
   "id": "premier-difficulty",
   "metadata": {},
   "outputs": [],
   "source": []
  },
  {
   "cell_type": "markdown",
   "id": "continuing-anatomy",
   "metadata": {},
   "source": [
    "#### 3. In the 2000's decade taken as a whole, how many total roles were available to actors, and how many to actresses, for each \"n\" number 1 through 4?"
   ]
  },
  {
   "cell_type": "code",
   "execution_count": null,
   "id": "original-hunter",
   "metadata": {},
   "outputs": [],
   "source": []
  },
  {
   "cell_type": "markdown",
   "id": "charming-birth",
   "metadata": {},
   "source": [
    "#### 4. Plot the fraction of actor roles relative to total roles over time, hint you may need to adjust the ylim to get a meaningful plot "
   ]
  },
  {
   "cell_type": "code",
   "execution_count": null,
   "id": "egyptian-proportion",
   "metadata": {},
   "outputs": [],
   "source": []
  },
  {
   "cell_type": "markdown",
   "id": "civic-bridal",
   "metadata": {},
   "source": [
    "#### 5. Plot the fraction of supporting roles (n = 2) for actors over time"
   ]
  },
  {
   "cell_type": "code",
   "execution_count": null,
   "id": "systematic-ridge",
   "metadata": {},
   "outputs": [],
   "source": []
  },
  {
   "cell_type": "markdown",
   "id": "characteristic-production",
   "metadata": {},
   "source": [
    "#### 6. Plot the fraction of roles n = 1,2, or 3 over time. Each should be a separate line"
   ]
  },
  {
   "cell_type": "code",
   "execution_count": null,
   "id": "ahead-cursor",
   "metadata": {},
   "outputs": [],
   "source": []
  },
  {
   "cell_type": "markdown",
   "id": "unexpected-speech",
   "metadata": {},
   "source": [
    "#### 7. When are Tom Cruise movies typically released (month)? "
   ]
  },
  {
   "cell_type": "code",
   "execution_count": null,
   "id": "found-spokesman",
   "metadata": {},
   "outputs": [],
   "source": []
  }
 ],
 "metadata": {
  "kernelspec": {
   "display_name": "Python 3",
   "language": "python",
   "name": "python3"
  },
  "language_info": {
   "codemirror_mode": {
    "name": "ipython",
    "version": 3
   },
   "file_extension": ".py",
   "mimetype": "text/x-python",
   "name": "python",
   "nbconvert_exporter": "python",
   "pygments_lexer": "ipython3",
   "version": "3.7.9"
  }
 },
 "nbformat": 4,
 "nbformat_minor": 5
}
