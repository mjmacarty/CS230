{
 "cells": [
  {
   "cell_type": "markdown",
   "metadata": {
    "id": "hpTZs4pUiU0u"
   },
   "source": [
    "This is the sample quiz 2. Click File ... Save a copy in Drive to save a copy in Google Drive and complete it on your own. Be sure to change the name of the notebook to include your name.  You don't have to hand it in.\n",
    "\n",
    "**On the \"real\" quiz you'll be filling in the answers to the short coding problems section using and won't have a python editor handy to complete these questions.**\n",
    "\n",
    "You will be able to use a Python editor to test your code for the two coding problems, which will be similar to some of these questions."
   ]
  },
  {
   "cell_type": "markdown",
   "metadata": {
    "id": "QD5ehVCKifDF"
   },
   "source": [
    "## Short Fill in the Code Problems\n",
    "\n",
    "The actual quiz will have short coding problems where you fill in one, two, or three blanks in each set. The quiz has a total of 15 blanks (12 questions)."
   ]
  },
  {
   "cell_type": "markdown",
   "metadata": {
    "id": "2rSqHLC1izuZ"
   },
   "source": [
    "# 1  List Processing\n",
    "\n",
    "Trace this code and provide the output. Add a statement print(dogs) and run the program to verify you are correct."
   ]
  },
  {
   "cell_type": "code",
   "execution_count": 5,
   "metadata": {
    "id": "h1ZMWG81i_jX"
   },
   "outputs": [
    {
     "name": "stdout",
     "output_type": "stream",
     "text": [
      "['Beagle', 'Coach', 'Beagle', 'Spot', 'Fido']\n"
     ]
    }
   ],
   "source": [
    "dogs = [\"Fido\", \"Rover\"]\n",
    "dogs.pop(1)\n",
    "pets = [\"Spot\",\"Max\", \"Buster\"]\n",
    "for p in pets:\n",
    "    dogs.append(p)\n",
    "dogs.remove(\"Max\")\n",
    "dogs.append(\"Buster\")\n",
    "dogs.insert(3, \"Coach\")\n",
    "dogs = [\"Beagle\" if dog == \"Buster\" else dog for dog in dogs]\n",
    "dogs = dogs[::-1]\n",
    "print(dogs)"
   ]
  },
  {
   "cell_type": "markdown",
   "metadata": {
    "id": "iQT4Z78m-8Fg"
   },
   "source": [
    "Given the 3 lists below, create, in one line of code, a list of tuples containing the name, animal type, and age of each animal.\n",
    "\n",
    "Sample output:\n",
    "\n",
    "```\n",
    "[('Snowball', 'Cat', 1), ('Chewy', 'Dog', 2), ('Bubbles', 'Fish', 2), ('Gruff', 'Goat', 6)]\n",
    "\n",
    "```\n",
    "\n"
   ]
  },
  {
   "cell_type": "code",
   "execution_count": 6,
   "metadata": {
    "colab": {
     "base_uri": "https://localhost:8080/"
    },
    "id": "0q86NUY7_Bc-",
    "outputId": "84e45d7a-94f6-40ab-9d9d-39bd18719e4d"
   },
   "outputs": [
    {
     "name": "stdout",
     "output_type": "stream",
     "text": [
      "[('Snowball', 'Cat', 1), ('Chewy', 'Dog', 2), ('Bubbles', 'Fish', 2), ('Gruff', 'Goat', 6)]\n"
     ]
    }
   ],
   "source": [
    "name = ['Snowball', 'Chewy', 'Bubbles', 'Gruff']\n",
    "animal = ['Cat', 'Dog', 'Fish', 'Goat']\n",
    "age = [1, 2, 2, 6]\n",
    "z = [(name, animal,age) for name, animal, age in zip(name, animal, age)] # replace with your solution\n",
    "print(list(z))"
   ]
  },
  {
   "cell_type": "code",
   "execution_count": 8,
   "metadata": {},
   "outputs": [
    {
     "name": "stdout",
     "output_type": "stream",
     "text": [
      "('Snowball', 'Cat', 1)\n",
      "('Chewy', 'Dog', 2)\n",
      "('Bubbles', 'Fish', 2)\n",
      "('Gruff', 'Goat', 6)\n"
     ]
    }
   ],
   "source": [
    "for tup in zip(name,animal,age):\n",
    "    print(tup)"
   ]
  },
  {
   "cell_type": "markdown",
   "metadata": {
    "id": "4F9Rr27P6oyW"
   },
   "source": [
    "# 2 Dictionaries"
   ]
  },
  {
   "cell_type": "markdown",
   "metadata": {
    "id": "8y5JTHei9XnZ"
   },
   "source": [
    "(a) Write code to create a dictionary named dict_colors, where the keys are colors in the color list, and their values are random numbers between 1 and 100. Print the dictionary.\n",
    "\n",
    "(b) Modify the dictionary to increase each value by 1, and print the resulting dictionary.\n",
    "\n",
    "(c) Find smallest value of any color in the dictionary.  Print the smallest value.\n",
    "\n",
    "(d) Remove the color(s) with the smallest value from the dictionary. Hint:  You must create a copy to iterate over as changing the size of the dictionary inside of a loop causes a RunTimeError. Iterate over the key, value pairs in your dictionary copy using items() and compare each value to the value you are looking for. If they match, delete the key from the dictionary.\n",
    "\n",
    "Sample output:\n",
    "\n",
    "```\n",
    "{'red': 99, 'green': 2, 'blue': 3, 'yellow': 14}\n",
    "{'red': 100, 'green': 3, 'blue': 4, 'yellow': 15}\n",
    "Smallest:  3\n",
    "{'red': 100, 'blue': 4, 'yellow': 15}\n",
    "```\n",
    "\n",
    "\n"
   ]
  },
  {
   "cell_type": "code",
   "execution_count": 19,
   "metadata": {
    "colab": {
     "base_uri": "https://localhost:8080/"
    },
    "id": "dg33BNYS6r-b",
    "outputId": "ed517123-266e-44fe-8e5f-539091588676"
   },
   "outputs": [
    {
     "name": "stdout",
     "output_type": "stream",
     "text": [
      "{'red': 15, 'green': 54, 'blue': 50, 'yellow': 10}\n",
      "{'red': 16, 'green': 55, 'blue': 51, 'yellow': 11}\n",
      "Smallest:  11\n",
      "{'red': 16, 'green': 55, 'blue': 51}\n"
     ]
    }
   ],
   "source": [
    "import random \n",
    "colors = [\"red\",\"green\",\"blue\",\"yellow\"]\n",
    "dict_colors = {color : random.randint(1,100) for color in colors}\n",
    "\n",
    "# for color in colors:\n",
    "#    dict_colors[color] = random.randint(1,100)\n",
    "    \n",
    "\n",
    "#  code for part (a) - assign random values to each color\n",
    "#  and store in a dictionary\n",
    "\n",
    "print(dict_colors)\n",
    "\n",
    "#  code for part (b) - increase each color value by 1\n",
    "for color in dict_colors:\n",
    "    dict_colors[color] += 1\n",
    "print(dict_colors)\n",
    "\n",
    "#  code for part (c) - find the smallest value\n",
    "\n",
    "smallest = 100  # replace with your code\n",
    "for color in dict_colors:\n",
    "    if dict_colors[color] < smallest:\n",
    "        smallest = dict_colors[color]\n",
    "print(\"Smallest: \", smallest)\n",
    "\n",
    "#  code for part (d) - remove each color with the smallest value\n",
    "new_dict = {}\n",
    "for color, value in dict_colors.items():\n",
    "    if dict_colors[color] != smallest:\n",
    "        new_dict[color] = value\n",
    "dict_colors = new_dict        \n",
    "print(dict_colors)"
   ]
  },
  {
   "cell_type": "code",
   "execution_count": 20,
   "metadata": {},
   "outputs": [
    {
     "data": {
      "text/plain": [
       "dict_items([('red', 16), ('green', 55), ('blue', 51)])"
      ]
     },
     "execution_count": 20,
     "metadata": {},
     "output_type": "execute_result"
    }
   ],
   "source": [
    "dict_colors.items()"
   ]
  },
  {
   "cell_type": "code",
   "execution_count": 11,
   "metadata": {},
   "outputs": [
    {
     "data": {
      "text/plain": [
       "{'key': 0}"
      ]
     },
     "execution_count": 11,
     "metadata": {},
     "output_type": "execute_result"
    }
   ],
   "source": [
    "d = dict()\n",
    "d['key'] = 0\n",
    "d"
   ]
  },
  {
   "cell_type": "markdown",
   "metadata": {
    "id": "LFRKAKyTkVEM"
   },
   "source": [
    "# 3 Dictionary of Lists\n",
    "Write code to perform both calculations described.\n",
    "\n",
    "(a) write code to determine the most price of the most expensive hotel in each city.\n",
    "\n",
    "(b) write code to determine the mosst expensive hotel among all of the cities, and the city in which it is located.\n",
    "\n",
    "Sample output. \n",
    "```\n",
    "The most expensive hotel in Amsterdam costs $190.00.\n",
    "The most expensive hotel in Athens costs $126.00.\n",
    "The most expensive hotel in Bangkok costs $194.00.\n",
    "The most expensive hotel in Barcelona costs $165.00.\n",
    "\n",
    "The most expensive hotel is in Bangkok and costs $194.00.\n",
    "```\n",
    "\n"
   ]
  },
  {
   "cell_type": "code",
   "execution_count": 29,
   "metadata": {
    "colab": {
     "base_uri": "https://localhost:8080/"
    },
    "id": "IQSIOXiCkaAi",
    "outputId": "ccec331f-e7a2-4f03-a1a3-7839eec4ea15"
   },
   "outputs": [
    {
     "name": "stdout",
     "output_type": "stream",
     "text": [
      "The most expensive hotel in Amsterdam costs $190.00\n",
      "The most expensive hotel in Athens costs $126.00\n",
      "The most expensive hotel in Bangkok costs $194.00\n",
      "The most expensive hotel in Barcelona costs $165.00\n",
      "Bangkok = 194\n"
     ]
    }
   ],
   "source": [
    "hotel_prices = {\"Amsterdam\":[ 185, 174, 190],\n",
    "                \"Athens\": [126, 118, 96],\n",
    "                \"Bangkok\": [86, 91, 194],\n",
    "                \"Barcelona\": [165, 151, 115]}\n",
    "\n",
    "# (a) write code to determine the most price of the most expensive hotel in each city.\n",
    "for city in hotel_prices:\n",
    "    print(f\"The most expensive hotel in {city} costs ${max(hotel_prices[city]):.2f}\")\n",
    "# (b) write code to determine the most expensive hotel among all of the cities, \n",
    "#     and the city in which it is located.\n",
    "maxi = 0\n",
    "for city in hotel_prices:\n",
    "    if max(hotel_prices[city]) > maxi:\n",
    "        maxi = max(hotel_prices[city])\n",
    "        \n",
    "for city in hotel_prices:\n",
    "    if max(hotel_prices[city]) == maxi:\n",
    "        print(f\"{city} = {max(hotel_prices[city])}\")\n",
    "    "
   ]
  },
  {
   "cell_type": "code",
   "execution_count": 21,
   "metadata": {},
   "outputs": [
    {
     "data": {
      "text/plain": [
       "190"
      ]
     },
     "execution_count": 21,
     "metadata": {},
     "output_type": "execute_result"
    }
   ],
   "source": [
    "max([185,174,190])"
   ]
  },
  {
   "cell_type": "markdown",
   "metadata": {
    "id": "-Cx8qRx1oz7O"
   },
   "source": [
    "# 4 List of Dictionaries"
   ]
  },
  {
   "cell_type": "markdown",
   "metadata": {
    "id": "GNpf2NzNqh1Z"
   },
   "source": [
    "Given the list of dictionaries below, print each person's name and age, and then print the name and age of the youngest person.\n",
    "\n",
    "```\n",
    "Miraj 30\n",
    "Tamara 24\n",
    "Lelise 25\n",
    "Phung 27\n",
    "Tamara is the youngest, at age 24\n",
    "```\n",
    "\n"
   ]
  },
  {
   "cell_type": "code",
   "execution_count": 36,
   "metadata": {
    "colab": {
     "base_uri": "https://localhost:8080/"
    },
    "id": "UI09uh6YpOna",
    "outputId": "62598c9e-b6b4-447f-ea97-87bdad890e4f"
   },
   "outputs": [
    {
     "name": "stdout",
     "output_type": "stream",
     "text": [
      "Miraj      30\n",
      "Tamara     24\n",
      "Lelise     25\n",
      "Phung      27\n"
     ]
    }
   ],
   "source": [
    "data = [ {\"name\": \"Miraj\", \"age\": 30, \"salary\": 80000},\n",
    "         {\"name\": \"Tamara\", \"age\": 24, \"salary\": 90000},\n",
    "        {\"name\": \"Lelise\", \"age\": 25, \"salary\": 65000},\n",
    "        {\"name\": \"Phung\", \"age\": 27, \"salary\": 74000}]\n",
    "\n",
    "# your code here\n",
    "for emp in data:\n",
    "    print(f\"{emp['name']:8} {emp['age']:>4}\")\n"
   ]
  },
  {
   "cell_type": "code",
   "execution_count": 37,
   "metadata": {},
   "outputs": [
    {
     "name": "stdout",
     "output_type": "stream",
     "text": [
      "The Zen of Python, by Tim Peters\n",
      "\n",
      "Beautiful is better than ugly.\n",
      "Explicit is better than implicit.\n",
      "Simple is better than complex.\n",
      "Complex is better than complicated.\n",
      "Flat is better than nested.\n",
      "Sparse is better than dense.\n",
      "Readability counts.\n",
      "Special cases aren't special enough to break the rules.\n",
      "Although practicality beats purity.\n",
      "Errors should never pass silently.\n",
      "Unless explicitly silenced.\n",
      "In the face of ambiguity, refuse the temptation to guess.\n",
      "There should be one-- and preferably only one --obvious way to do it.\n",
      "Although that way may not be obvious at first unless you're Dutch.\n",
      "Now is better than never.\n",
      "Although never is often better than *right* now.\n",
      "If the implementation is hard to explain, it's a bad idea.\n",
      "If the implementation is easy to explain, it may be a good idea.\n",
      "Namespaces are one honking great idea -- let's do more of those!\n"
     ]
    }
   ],
   "source": [
    "import this"
   ]
  },
  {
   "cell_type": "markdown",
   "metadata": {
    "id": "--5kTusnlD5j"
   },
   "source": [
    "# 5  List Comprehensions and Lists of Lists\n",
    "\n",
    "Write a list comprehension to create a new list removing every even number from my_list"
   ]
  },
  {
   "cell_type": "code",
   "execution_count": 38,
   "metadata": {
    "id": "ebLpqP6ilDm3"
   },
   "outputs": [
    {
     "name": "stdout",
     "output_type": "stream",
     "text": [
      "[1, 5, 3]\n"
     ]
    }
   ],
   "source": [
    "my_list = [1,2,4,5,6,3,10,2,4]\n",
    "odds = [x for x in my_list if x % 2]  # replace this line with your solution\n",
    "\n",
    "print(odds)"
   ]
  },
  {
   "cell_type": "markdown",
   "metadata": {
    "id": "W9eKEivglc7U"
   },
   "source": [
    "Create a multiplication table represented as a list of lists containing the products of numbers from 1x1 to 4x4 using a list comprehension.  \n",
    "\n",
    "\n",
    "```\n",
    "[[1, 2, 3, 4], [2, 4, 6, 8], [3, 6, 9, 12], [4, 8, 12, 16]]\n",
    "```\n",
    "\n"
   ]
  },
  {
   "cell_type": "code",
   "execution_count": 42,
   "metadata": {
    "colab": {
     "base_uri": "https://localhost:8080/"
    },
    "id": "q9yRaALjlx4_",
    "outputId": "79d01291-867c-4ae0-95af-63838f6ea407"
   },
   "outputs": [
    {
     "name": "stdout",
     "output_type": "stream",
     "text": [
      "[1, 2, 3, 4]\n",
      "[2, 4, 6, 8]\n",
      "[3, 6, 9, 12]\n",
      "[4, 8, 12, 16]\n"
     ]
    }
   ],
   "source": [
    "table = [[i * j for i in range(1,5)] for j in range(1,5)] #  replace this line with your solution\n",
    "for row in table:\n",
    "    print(row)"
   ]
  },
  {
   "cell_type": "markdown",
   "metadata": {
    "id": "Y1BuGoHgl3TD"
   },
   "source": [
    "# 6 Functions\n",
    "\n",
    "Write a function that takes a list as a parameter and calculates the product of the first and last numbers in the list. Your function should work with the main program provided.\n",
    "\n",
    "\n",
    "```\n",
    "[2, 4, 6] 12\n",
    "```\n",
    "\n"
   ]
  },
  {
   "cell_type": "code",
   "execution_count": 44,
   "metadata": {
    "id": "s-Y1Iok8mFQZ"
   },
   "outputs": [
    {
     "name": "stdout",
     "output_type": "stream",
     "text": [
      "[2, 4, 6] 12\n"
     ]
    }
   ],
   "source": [
    "# replace the function definition statement and the code for the function\n",
    "def firstTimesLast(aList):  \n",
    "    # remove the pass statement and replace with your code\n",
    "    return aList[0] * aList[-1]\n",
    "\n",
    "def main():\n",
    "    my_list = [2, 4, 6]\n",
    "    result = firstTimesLast(my_list)\n",
    "    print(my_list, result)\n",
    "\n",
    "main()\n"
   ]
  },
  {
   "cell_type": "markdown",
   "metadata": {
    "id": "WlXtzkkhmiA-"
   },
   "source": [
    "Write a boolean function that returns True if a word contains at least two occurrences of any letter, and False otherwise.  Hint:  Use a dictionary.  Ignore case of the letters.\n",
    "\n",
    "\n",
    "\n",
    "```\n",
    "Mississippi has at least one letter that appears twice.\n",
    "Idaho has unique letters.\n",
    "Oregon has at least one letter that appears twice.\n",
    "```\n",
    "\n"
   ]
  },
  {
   "cell_type": "code",
   "execution_count": 56,
   "metadata": {
    "colab": {
     "base_uri": "https://localhost:8080/"
    },
    "id": "3zK8JsKOmzW7",
    "outputId": "e08fd3d6-6a1d-4a89-d336-62567cf98ee8"
   },
   "outputs": [
    {
     "name": "stdout",
     "output_type": "stream",
     "text": [
      "Mississippi has unique letters.\n",
      "Idaho has unique letters.\n",
      "Oregon has unique letters.\n"
     ]
    }
   ],
   "source": [
    "def containsTwo(word):\n",
    "    # replace the pass statement with your code\n",
    "    \n",
    "def main():\n",
    "    states = [\"Mississippi\", \"Idaho\", \"Oregon\"]\n",
    "    for s in states:\n",
    "        if containsTwo(s):\n",
    "            print(s, \"has at least one letter that appears twice.\")\n",
    "        else:\n",
    "            print(s, \"has unique letters.\")\n",
    "main()"
   ]
  },
  {
   "cell_type": "code",
   "execution_count": null,
   "metadata": {},
   "outputs": [],
   "source": []
  },
  {
   "cell_type": "markdown",
   "metadata": {
    "id": "dBY_RrrNrDCA"
   },
   "source": [
    "Write a function addItemQuant(dict, item, quantity=1) that has three arguments:\n",
    "\n",
    "\n",
    "*   dict, a dictionary\n",
    "*   item, the item to add to a dictionary\n",
    "*   quantity (optional argument with a default value of 1)\n",
    "\n",
    "The function returns the dictionary with the item (as key) added and its value is increased by the value of quantity.  If no value of quantity is passed in when the function is called, the function uses the default value of 1.\n",
    "\n",
    "See the sample code. The output is shown.\n",
    "\n",
    "\n",
    "```\n",
    "{'chicken': 3, 'goose': 1, 'turkey': 5}\n",
    "```\n",
    "\n",
    "\n",
    "\n"
   ]
  },
  {
   "cell_type": "code",
   "execution_count": null,
   "metadata": {
    "colab": {
     "base_uri": "https://localhost:8080/"
    },
    "id": "3kI-uZGGm7vp",
    "outputId": "c93885f6-51aa-4da8-ffa6-5cd55e202fd5"
   },
   "outputs": [
    {
     "name": "stdout",
     "output_type": "stream",
     "text": [
      "{'chicken': 3, 'goose': 1, 'turkey': 5}\n"
     ]
    }
   ],
   "source": [
    "def addItemQuant(): # add the parameters to the parameter list\n",
    "    # replace the pass statement with your code\n",
    "    pass\n",
    "\n",
    "fowl = {}\n",
    "fowl = addItemQuant(fowl, \"chicken\",3)\n",
    "fowl = addItemQuant(fowl, \"goose\")\n",
    "fowl = addItemQuant(fowl, \"turkey\", 4)\n",
    "fowl = addItemQuant(fowl, \"turkey\")\n",
    "print(fowl)\n"
   ]
  },
  {
   "cell_type": "markdown",
   "metadata": {
    "id": "iUE34WE1tcGQ"
   },
   "source": [
    "# 7 File Processing"
   ]
  },
  {
   "cell_type": "markdown",
   "metadata": {
    "id": "-FsdH54Ptvt0"
   },
   "source": [
    "Using the containsTwo() function written earlier, write a program that \n",
    "*  sets a file name to bentley.txt by default\n",
    "*  asks the user to enter the name of a text file\n",
    "** if the user presses ENTER, use the default file name otherwise use the name typed in \n",
    "*  constructs the name of the output file by splitting the input file at the dot and appending \"_out\" to the file name (for example, bentley_out.txt)\n",
    "*  opens the input file for read\n",
    "* opens the output file for write\n",
    "* processes the input file:\n",
    "** writes every six letter word with at least two of the same letter to a line of the output file\n",
    "** create a list of those words\n",
    "* when file processing is complete,\n",
    "** close the output file\n",
    "** print the list of six letter words containing two or more of the same letter.\n",
    "\n",
    "\n",
    "\n",
    "Use the text in the shaded area as your input file.\n",
    "\n",
    "```\n",
    "When Harry C. Bentley first convened a class of 30 students on Huntington Avenue in Boston in 1917, his goal was to educate the next generation of accountants. Since opening our doors over 100 years ago, Bentley University has continuously reinvented business education and grown from those humble beginnings to become one of the top business universities in the U.S. \n",
    "\n",
    "As a transformative lifelong-learning community, we prepare over 5,300 undergraduate and postgraduate students each year to use their business know-how to make a positive difference in the world. With a community of over 65,000 proud Falcon alumni, the impacts of a Bentley education stretch around the globe.\n",
    "```\n",
    "Sample output:\n",
    "\n",
    "```\n",
    "Filename: [bentley.txt]\n",
    "['Avenue', 'Boston', 'become', '65,000']\n",
    "```\n",
    "Output file contains:\n",
    "\n",
    "```\n",
    "Avenue\n",
    "Boston\n",
    "become\n",
    "65,000\n",
    "```\n",
    "\n",
    "\n",
    "\n"
   ]
  },
  {
   "cell_type": "code",
   "execution_count": null,
   "metadata": {
    "colab": {
     "base_uri": "https://localhost:8080/"
    },
    "id": "dEmSMPlStXR7",
    "outputId": "6f1db442-8694-4dd8-ac7a-fd90f28925eb"
   },
   "outputs": [
    {
     "name": "stdout",
     "output_type": "stream",
     "text": [
      "Filename: [bentley.txt]\n",
      "['Avenue', 'Boston', 'become', '65,000']\n"
     ]
    }
   ],
   "source": [
    "def containsTwo(word):\n",
    "    #replace the pass statement with your containsTwo() code\n",
    "    pass\n",
    "\n",
    "filename = input(\"Filename: [bentley.txt]\")\n",
    "# add an if statement so that if the user presses ENTER, \n",
    "# the program will use bentley.txt for the file name\n",
    "# otherwise, it uses the value entered\n",
    "\n",
    "# replace filename_out with a statement to compute the output filename\n",
    "\n",
    "filename_out = \"\"  # your code here\n",
    "\n",
    "# open the files and process the input file as described\n",
    "# print the wordlist when done\n"
   ]
  }
 ],
 "metadata": {
  "colab": {
   "name": "Spring 2021 CS230 Quiz 2 Practice Questions.ipynb",
   "provenance": [],
   "toc_visible": true
  },
  "kernelspec": {
   "display_name": "Python 3",
   "language": "python",
   "name": "python3"
  },
  "language_info": {
   "codemirror_mode": {
    "name": "ipython",
    "version": 3
   },
   "file_extension": ".py",
   "mimetype": "text/x-python",
   "name": "python",
   "nbconvert_exporter": "python",
   "pygments_lexer": "ipython3",
   "version": "3.8.5"
  }
 },
 "nbformat": 4,
 "nbformat_minor": 1
}
