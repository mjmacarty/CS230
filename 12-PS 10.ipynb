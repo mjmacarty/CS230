{
 "cells": [
  {
   "cell_type": "markdown",
   "metadata": {},
   "source": [
    "# Some example functions"
   ]
  },
  {
   "cell_type": "code",
   "execution_count": null,
   "metadata": {},
   "outputs": [],
   "source": [
    "# enter a watchlist"
   ]
  },
  {
   "cell_type": "code",
   "execution_count": 3,
   "metadata": {},
   "outputs": [],
   "source": [
    "def add_list():\n",
    "    condition = False\n",
    "    watchlist = []\n",
    "    while condition == False:\n",
    "        symbol = input(\"Enter a ticker symbol: \").upper()\n",
    "        if symbol == '':\n",
    "            break\n",
    "        if symbol not in watchlist:\n",
    "            watchlist.append(symbol)\n",
    "    return sorted(watchlist)       \n",
    "             "
   ]
  },
  {
   "cell_type": "code",
   "execution_count": 4,
   "metadata": {},
   "outputs": [
    {
     "name": "stdout",
     "output_type": "stream",
     "text": [
      "Enter a ticker symbol: nvda\n",
      "Enter a ticker symbol: gme\n",
      "Enter a ticker symbol: ccib\n",
      "Enter a ticker symbol: amzn\n",
      "Enter a ticker symbol: \n"
     ]
    },
    {
     "data": {
      "text/plain": [
       "['AMZN', 'CCIB', 'GME', 'NVDA']"
      ]
     },
     "execution_count": 4,
     "metadata": {},
     "output_type": "execute_result"
    }
   ],
   "source": [
    "add_list()"
   ]
  },
  {
   "cell_type": "code",
   "execution_count": 8,
   "metadata": {},
   "outputs": [],
   "source": [
    "def clean_string(string):\n",
    "    punctuation = '.,?!:;-\"'\n",
    "    for mark in punctuation:\n",
    "        string = string.replace(mark, '')\n",
    "    return string     "
   ]
  },
  {
   "cell_type": "code",
   "execution_count": 12,
   "metadata": {},
   "outputs": [],
   "source": [
    "file = open('desolation_row.txt', 'r')\n",
    "data = file.read()\n",
    "data = clean_string(data)"
   ]
  },
  {
   "cell_type": "code",
   "execution_count": null,
   "metadata": {},
   "outputs": [],
   "source": [
    "data.split('\\n')"
   ]
  },
  {
   "cell_type": "code",
   "execution_count": 13,
   "metadata": {},
   "outputs": [],
   "source": [
    "def replace_vowels(string):\n",
    "    replacements = {'a' : '4', 'e' : '3', 'i' : '1', 'o' : '0', 'u' : '8'}\n",
    "    for vowel in replacements:\n",
    "        string = string.replace(vowel, replacements[vowel])\n",
    "    return string    \n",
    "    "
   ]
  },
  {
   "cell_type": "code",
   "execution_count": 14,
   "metadata": {},
   "outputs": [
    {
     "data": {
      "text/plain": [
       "'H3ll0 4g41n'"
      ]
     },
     "execution_count": 14,
     "metadata": {},
     "output_type": "execute_result"
    }
   ],
   "source": [
    "replace_vowels(\"Hello again\")"
   ]
  },
  {
   "cell_type": "code",
   "execution_count": 17,
   "metadata": {},
   "outputs": [],
   "source": [
    "def replace_vowels(string):\n",
    "    replacements = {'a' : '4', 'e' : '3', 'i' : '1', 'o' : '0', 'u' : '8'}\n",
    "    revised =''\n",
    "    for letter in string:\n",
    "        if letter in 'aeiou':\n",
    "            revised += replacements[letter]\n",
    "        else:\n",
    "            revised += letter        \n",
    "    return revised   "
   ]
  },
  {
   "cell_type": "code",
   "execution_count": 18,
   "metadata": {},
   "outputs": [
    {
     "data": {
      "text/plain": [
       "'H3ll0 4g41n'"
      ]
     },
     "execution_count": 18,
     "metadata": {},
     "output_type": "execute_result"
    }
   ],
   "source": [
    "replace_vowels('Hello again')"
   ]
  },
  {
   "cell_type": "code",
   "execution_count": 19,
   "metadata": {},
   "outputs": [],
   "source": [
    "# mostly works\n",
    "def is_anagram(phrase1, phrase2):\n",
    "    phrase1.lower()\n",
    "    phrase2.lower()\n",
    "    if sorted(phrase1)  == sorted(phrase2):\n",
    "        return True\n",
    "    else:\n",
    "        return False\n",
    "    "
   ]
  },
  {
   "cell_type": "code",
   "execution_count": 22,
   "metadata": {},
   "outputs": [
    {
     "data": {
      "text/plain": [
       "False"
      ]
     },
     "execution_count": 22,
     "metadata": {},
     "output_type": "execute_result"
    }
   ],
   "source": [
    "is_anagram('dormitory', 'dirty room')"
   ]
  },
  {
   "cell_type": "code",
   "execution_count": 21,
   "metadata": {},
   "outputs": [
    {
     "data": {
      "text/plain": [
       "[' ', 'B', 'a', 'c', 'd', 'd', 'e', 'i', 'r', 't']"
      ]
     },
     "execution_count": 21,
     "metadata": {},
     "output_type": "execute_result"
    }
   ],
   "source": [
    "sorted('Bad credit')"
   ]
  },
  {
   "cell_type": "code",
   "execution_count": 28,
   "metadata": {},
   "outputs": [],
   "source": [
    "def is_anagram(word1, word2):\n",
    "    word1 = [letter.lower() for letter in word1 if letter != ' ']\n",
    "    word2 = [letter.lower() for letter in word2 if letter != ' ']\n",
    "    if sorted(word1)  == sorted(word2):\n",
    "        return True\n",
    "    else:\n",
    "        return False"
   ]
  },
  {
   "cell_type": "code",
   "execution_count": 29,
   "metadata": {},
   "outputs": [
    {
     "data": {
      "text/plain": [
       "True"
      ]
     },
     "execution_count": 29,
     "metadata": {},
     "output_type": "execute_result"
    }
   ],
   "source": [
    "is_anagram('dormitory', 'dirty room')"
   ]
  },
  {
   "cell_type": "code",
   "execution_count": null,
   "metadata": {},
   "outputs": [],
   "source": []
  },
  {
   "cell_type": "code",
   "execution_count": null,
   "metadata": {},
   "outputs": [],
   "source": []
  },
  {
   "cell_type": "code",
   "execution_count": null,
   "metadata": {},
   "outputs": [],
   "source": []
  },
  {
   "cell_type": "code",
   "execution_count": null,
   "metadata": {},
   "outputs": [],
   "source": []
  }
 ],
 "metadata": {
  "kernelspec": {
   "display_name": "Python 3",
   "language": "python",
   "name": "python3"
  },
  "language_info": {
   "codemirror_mode": {
    "name": "ipython",
    "version": 3
   },
   "file_extension": ".py",
   "mimetype": "text/x-python",
   "name": "python",
   "nbconvert_exporter": "python",
   "pygments_lexer": "ipython3",
   "version": "3.8.5"
  }
 },
 "nbformat": 4,
 "nbformat_minor": 4
}
