{
 "cells": [
  {
   "cell_type": "markdown",
   "metadata": {},
   "source": [
    "# Working with JSON\n",
    "* JSON is the preferred method to share data accross platforms\n",
    "* Many calls to web-based service return JSON\n",
    "* Dicts are very nearly JSON\n",
    "* Main methods are load, loads, dump dumps"
   ]
  },
  {
   "cell_type": "code",
   "execution_count": 1,
   "metadata": {},
   "outputs": [],
   "source": [
    "import json"
   ]
  },
  {
   "cell_type": "code",
   "execution_count": 2,
   "metadata": {},
   "outputs": [],
   "source": [
    "accounts = {'accounts': [\n",
    "    {'account': 100, 'Name' : 'Smith', 'Balance' : 24.98},\n",
    "    {'account' : 200, 'Name' : 'Johnson', 'Balance' : 345.67},\n",
    "    {'account' : 300, 'Name' : 'Jones', 'Balance': 0.00}]}"
   ]
  },
  {
   "cell_type": "code",
   "execution_count": 3,
   "metadata": {},
   "outputs": [
    {
     "data": {
      "text/plain": [
       "dict"
      ]
     },
     "execution_count": 3,
     "metadata": {},
     "output_type": "execute_result"
    }
   ],
   "source": [
    "type(accounts)"
   ]
  },
  {
   "cell_type": "code",
   "execution_count": 6,
   "metadata": {},
   "outputs": [],
   "source": [
    "with open('accounts.txt', 'w') as writer:\n",
    "    json.dump(accounts, writer)\n",
    "writer.close()    "
   ]
  },
  {
   "cell_type": "code",
   "execution_count": 8,
   "metadata": {},
   "outputs": [
    {
     "data": {
      "text/plain": [
       "str"
      ]
     },
     "execution_count": 8,
     "metadata": {},
     "output_type": "execute_result"
    }
   ],
   "source": [
    "f = open('accounts.json', 'r')\n",
    "get_string = f.read()\n",
    "type(get_string)"
   ]
  },
  {
   "cell_type": "code",
   "execution_count": 10,
   "metadata": {},
   "outputs": [
    {
     "data": {
      "text/plain": [
       "dict"
      ]
     },
     "execution_count": 10,
     "metadata": {},
     "output_type": "execute_result"
    }
   ],
   "source": [
    "type(json.loads(get_string))"
   ]
  },
  {
   "cell_type": "code",
   "execution_count": 11,
   "metadata": {},
   "outputs": [
    {
     "data": {
      "text/plain": [
       "{'accounts': [{'account': 100, 'Name': 'Smith', 'Balance': 24.98},\n",
       "  {'account': 200, 'Name': 'Johnson', 'Balance': 345.67},\n",
       "  {'account': 300, 'Name': 'Jones', 'Balance': 0.0}]}"
      ]
     },
     "execution_count": 11,
     "metadata": {},
     "output_type": "execute_result"
    }
   ],
   "source": [
    "with open('accounts.json', 'r') as reader:\n",
    "    accounts_json = json.load(reader)\n",
    "accounts_json    "
   ]
  },
  {
   "cell_type": "code",
   "execution_count": null,
   "metadata": {},
   "outputs": [],
   "source": []
  },
  {
   "cell_type": "code",
   "execution_count": 14,
   "metadata": {},
   "outputs": [
    {
     "name": "stdout",
     "output_type": "stream",
     "text": [
      "{\n",
      "  \"accounts\": [\n",
      "    {\n",
      "      \"account\": 100,\n",
      "      \"Name\": \"Smith\",\n",
      "      \"Balance\": 24.98\n",
      "    },\n",
      "    {\n",
      "      \"account\": 200,\n",
      "      \"Name\": \"Johnson\",\n",
      "      \"Balance\": 345.67\n",
      "    },\n",
      "    {\n",
      "      \"account\": 300,\n",
      "      \"Name\": \"Jones\",\n",
      "      \"Balance\": 0.0\n",
      "    }\n",
      "  ]\n",
      "}\n"
     ]
    }
   ],
   "source": [
    "# dumps --> dump string of JSON object\n",
    "print(json.dumps(accounts_json, indent = 2))\n"
   ]
  },
  {
   "cell_type": "markdown",
   "metadata": {},
   "source": [
    "# csv module\n",
    "* Used for reading and writing to from csv files\n",
    "* Works equally well for any file extension\n",
    "* Works with the open function\n",
    "* Unlike the open function you can write numerical data\n",
    "* You have to be careful of poorly written csv, i.e. extra/missing commas\n",
    "* Reserved word next reads first line for use with headers"
   ]
  },
  {
   "cell_type": "code",
   "execution_count": 15,
   "metadata": {},
   "outputs": [],
   "source": [
    "import csv"
   ]
  },
  {
   "cell_type": "code",
   "execution_count": 22,
   "metadata": {},
   "outputs": [],
   "source": [
    "# specify newline so you don't get extra linebreaks\n",
    "with open('accounts.csv', mode='w', newline='') as file:\n",
    "    writer = csv.writer(file)\n",
    "    for account in accounts['accounts']:\n",
    "        values = account.values()\n",
    "        writer.writerow(values)\n",
    "file.close()        "
   ]
  },
  {
   "cell_type": "code",
   "execution_count": null,
   "metadata": {},
   "outputs": [],
   "source": []
  },
  {
   "cell_type": "code",
   "execution_count": 23,
   "metadata": {},
   "outputs": [
    {
     "name": "stdout",
     "output_type": "stream",
     "text": [
      "['100,Smith,24.98\\n', '200,Johnson,345.67\\n', '300,Jones,0.0\\n']\n"
     ]
    }
   ],
   "source": [
    "# open still brings data in as strings\n",
    "file = open('accounts.csv')\n",
    "print(file.readlines())\n",
    "file.close()"
   ]
  },
  {
   "cell_type": "code",
   "execution_count": 29,
   "metadata": {},
   "outputs": [],
   "source": [
    "list_of_accounts = []\n",
    "file = open('accounts.csv')\n",
    "for line in file.readlines():\n",
    "    list_of_accounts.append(line.strip().split(','))\n",
    "file.close()    "
   ]
  },
  {
   "cell_type": "code",
   "execution_count": 32,
   "metadata": {},
   "outputs": [
    {
     "data": {
      "text/plain": [
       "[['100', 'Smith', '24.98'],\n",
       " ['200', 'Johnson', '345.67'],\n",
       " ['300', 'Jones', '0.0']]"
      ]
     },
     "execution_count": 32,
     "metadata": {},
     "output_type": "execute_result"
    }
   ],
   "source": [
    "list_of_accounts"
   ]
  },
  {
   "cell_type": "code",
   "execution_count": 33,
   "metadata": {},
   "outputs": [
    {
     "data": {
      "text/plain": [
       "'Smith'"
      ]
     },
     "execution_count": 33,
     "metadata": {},
     "output_type": "execute_result"
    }
   ],
   "source": [
    "# first row second value\n",
    "list_of_accounts[0][1]"
   ]
  },
  {
   "cell_type": "code",
   "execution_count": 34,
   "metadata": {},
   "outputs": [],
   "source": [
    "# is numeric checks if entire string is comprised of numbers\n",
    "\n",
    "file = open('accounts.csv', mode = 'r', newline = '')\n",
    "reader = csv.reader(file)\n",
    "list_of_accounts = [row for row in reader]\n",
    "file.close()"
   ]
  },
  {
   "cell_type": "code",
   "execution_count": 35,
   "metadata": {},
   "outputs": [
    {
     "data": {
      "text/plain": [
       "[['100', 'Smith', '24.98'],\n",
       " ['200', 'Johnson', '345.67'],\n",
       " ['300', 'Jones', '0.0']]"
      ]
     },
     "execution_count": 35,
     "metadata": {},
     "output_type": "execute_result"
    }
   ],
   "source": [
    "list_of_accounts"
   ]
  },
  {
   "cell_type": "code",
   "execution_count": 38,
   "metadata": {},
   "outputs": [
    {
     "data": {
      "text/plain": [
       "False"
      ]
     },
     "execution_count": 38,
     "metadata": {},
     "output_type": "execute_result"
    }
   ],
   "source": [
    "list_of_accounts[0][2].isnumeric()"
   ]
  },
  {
   "cell_type": "code",
   "execution_count": 43,
   "metadata": {},
   "outputs": [
    {
     "data": {
      "text/plain": [
       "True"
      ]
     },
     "execution_count": 43,
     "metadata": {},
     "output_type": "execute_result"
    }
   ],
   "source": [
    "list_of_accounts[0][2][0].isdigit()"
   ]
  },
  {
   "cell_type": "code",
   "execution_count": 44,
   "metadata": {},
   "outputs": [],
   "source": [
    "for row in list_of_accounts:\n",
    "    for column in range(len(row)):\n",
    "        if row[column].isnumeric():\n",
    "            row[column] = int(row[column])\n",
    "        elif row[column][0].isdigit():\n",
    "            row[column] = float(row[column])\n",
    "    "
   ]
  },
  {
   "cell_type": "code",
   "execution_count": 47,
   "metadata": {},
   "outputs": [
    {
     "data": {
      "text/plain": [
       "[[100, 'Smith', 24.98], [200, 'Johnson', 345.67], [300, 'Jones', 0.0]]"
      ]
     },
     "execution_count": 47,
     "metadata": {},
     "output_type": "execute_result"
    }
   ],
   "source": [
    "list_of_accounts"
   ]
  },
  {
   "cell_type": "code",
   "execution_count": null,
   "metadata": {},
   "outputs": [],
   "source": []
  },
  {
   "cell_type": "code",
   "execution_count": null,
   "metadata": {},
   "outputs": [],
   "source": []
  }
 ],
 "metadata": {
  "kernelspec": {
   "display_name": "Python 3",
   "language": "python",
   "name": "python3"
  },
  "language_info": {
   "codemirror_mode": {
    "name": "ipython",
    "version": 3
   },
   "file_extension": ".py",
   "mimetype": "text/x-python",
   "name": "python",
   "nbconvert_exporter": "python",
   "pygments_lexer": "ipython3",
   "version": "3.8.5"
  }
 },
 "nbformat": 4,
 "nbformat_minor": 4
}
