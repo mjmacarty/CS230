{
 "cells": [
  {
   "cell_type": "markdown",
   "metadata": {},
   "source": [
    "# Handling Exceptions\n",
    "* Python has many built-in exceptions\n",
    "* ZeroDivisionError, ValueError, KeyError, NameError, etc.\n",
    "* All part of the base Exception class\n",
    "* You can also define your own exceptions that allow improved messaging\n",
    "* Using try ... except allows your programs to handle errors without simply crashing"
   ]
  },
  {
   "cell_type": "code",
   "execution_count": null,
   "metadata": {},
   "outputs": [],
   "source": []
  },
  {
   "cell_type": "code",
   "execution_count": 3,
   "metadata": {},
   "outputs": [
    {
     "name": "stdout",
     "output_type": "stream",
     "text": [
      "0.50\n",
      "That won't work unsupported operand type(s) for /: 'str' and 'int'\n",
      "1.25\n",
      "That doesn't work division by zero\n"
     ]
    }
   ],
   "source": [
    "values = [(1,2), ('5', 6), (5, 4), (0, 0)]\n",
    "\n",
    "for pair in values:\n",
    "    try:\n",
    "        val1, val2 = pair\n",
    "        result = val1 / val2 \n",
    "        print(f\"{result:.2f}\")\n",
    "    except ZeroDivisionError as e:\n",
    "        print(f\"That doesn't work {e}\")\n",
    "    except Exception as e:\n",
    "        print(f\"That won't work {e}\")\n",
    "\n"
   ]
  },
  {
   "cell_type": "code",
   "execution_count": 4,
   "metadata": {},
   "outputs": [
    {
     "name": "stdout",
     "output_type": "stream",
     "text": [
      "Enter a number: s\n",
      "invalid literal for int() with base 10: 's' You need to enter a number\n",
      "Enter a number: f\n",
      "invalid literal for int() with base 10: 'f' You need to enter a number\n",
      "Enter a number: 5\n",
      "Enter a number: r\n",
      "invalid literal for int() with base 10: 'r' You need to enter a number\n",
      "Enter a number: t\n",
      "invalid literal for int() with base 10: 't' You need to enter a number\n",
      "Enter a number: 7\n",
      "Enter a number: 5\n",
      "1.40\n"
     ]
    }
   ],
   "source": [
    "while True:\n",
    "    try:\n",
    "        num1 = int(input(\"Enter a number: \"))\n",
    "        num2 = int(input(\"Enter a number: \"))\n",
    "        result = num1 / num2\n",
    "    except ValueError as e:\n",
    "        print(f\"{e} You need to enter a number\")\n",
    "    except ZeroDivisionError as e:\n",
    "        print(f\"{e} That doesn't make sense\")\n",
    "    else:\n",
    "        print(f\"{result:.2f}\")\n",
    "        break\n",
    "    "
   ]
  },
  {
   "cell_type": "code",
   "execution_count": 5,
   "metadata": {},
   "outputs": [
    {
     "name": "stdout",
     "output_type": "stream",
     "text": [
      "Enter a number: 5\n",
      "Enter a number: 4\n",
      "1.25\n",
      "This happens no matter what\n"
     ]
    }
   ],
   "source": [
    "while True:\n",
    "    try:\n",
    "        num1 = int(input(\"Enter a number: \"))\n",
    "        num2 = int(input(\"Enter a number: \"))\n",
    "        result = num1 / num2\n",
    "    except ValueError as e:\n",
    "        print(f\"{e} You need to enter a number\")\n",
    "    except ZeroDivisionError as e:\n",
    "        print(f\"{e} That doesn't make sense\")\n",
    "    else:\n",
    "        print(f\"{result:.2f}\")\n",
    "        break\n",
    "    finally:\n",
    "        print(\"This happens no matter what\")"
   ]
  },
  {
   "cell_type": "code",
   "execution_count": 16,
   "metadata": {},
   "outputs": [
    {
     "name": "stdout",
     "output_type": "stream",
     "text": [
      "Account     Name       Balance\n",
      "100         Smith        24.98\n",
      "200         Johnson     345.67\n",
      "300         Jones          0.0\n"
     ]
    }
   ],
   "source": [
    "import json\n",
    "try:\n",
    "    with open('accounts.txt', 'r') as account:\n",
    "        account = json.load(account)\n",
    "        print(f\"{'Account':12}{'Name':8}{'Balance':>10}\")\n",
    "        for record in account['accounts']:\n",
    "            id, name, balance = record.values()\n",
    "            print(f\"{id:<12}{name:8}{balance:>10}\")\n",
    "except Exception as e:\n",
    "    print(f\"{e}\")"
   ]
  },
  {
   "cell_type": "code",
   "execution_count": null,
   "metadata": {},
   "outputs": [],
   "source": []
  },
  {
   "cell_type": "code",
   "execution_count": null,
   "metadata": {},
   "outputs": [],
   "source": []
  },
  {
   "cell_type": "code",
   "execution_count": null,
   "metadata": {},
   "outputs": [],
   "source": []
  },
  {
   "cell_type": "code",
   "execution_count": null,
   "metadata": {},
   "outputs": [],
   "source": []
  },
  {
   "cell_type": "code",
   "execution_count": null,
   "metadata": {},
   "outputs": [],
   "source": []
  },
  {
   "cell_type": "code",
   "execution_count": null,
   "metadata": {},
   "outputs": [],
   "source": []
  }
 ],
 "metadata": {
  "kernelspec": {
   "display_name": "Python 3",
   "language": "python",
   "name": "python3"
  },
  "language_info": {
   "codemirror_mode": {
    "name": "ipython",
    "version": 3
   },
   "file_extension": ".py",
   "mimetype": "text/x-python",
   "name": "python",
   "nbconvert_exporter": "python",
   "pygments_lexer": "ipython3",
   "version": "3.8.5"
  }
 },
 "nbformat": 4,
 "nbformat_minor": 4
}
