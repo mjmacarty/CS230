{
 "cells": [
  {
   "cell_type": "markdown",
   "metadata": {},
   "source": [
    "# Introduction to NumPy\n",
    "* NumPy is written in C and the primary data type is a powerful array n-dimensional \n",
    "* Arrays are much faster than lists \n",
    "* Arrays allow vectorized operations\n",
    "* Require all data to be of the same type --> trade off for speed\n",
    "* NumPy arrays are of a fixed size \n",
    "* NumPy is huge and very powerful --> we will just hit the highlights\n",
    "* Part of a Data \"ecosystem\" which includes data science libraries, machine learning and image processing"
   ]
  },
  {
   "cell_type": "markdown",
   "metadata": {},
   "source": [
    "##### Documentation\n",
    "https://numpy.org/"
   ]
  },
  {
   "cell_type": "code",
   "execution_count": 2,
   "metadata": {},
   "outputs": [
    {
     "data": {
      "text/plain": [
       "[0, 1, 2, 3, 4, 5, 6, 7, 8, 9, 10]"
      ]
     },
     "execution_count": 2,
     "metadata": {},
     "output_type": "execute_result"
    }
   ],
   "source": [
    "# Write code to transform the data into the data squared\n",
    "squares = list(range(11))\n",
    "squares"
   ]
  },
  {
   "cell_type": "code",
   "execution_count": 6,
   "metadata": {},
   "outputs": [
    {
     "data": {
      "text/plain": [
       "[0, 1, 4, 9, 16, 25, 36, 49, 64, 81, 100]"
      ]
     },
     "execution_count": 6,
     "metadata": {},
     "output_type": "execute_result"
    }
   ],
   "source": [
    "new_list = []\n",
    "for number in squares:\n",
    "    new_list.append(number ** 2)\n",
    "new_list    "
   ]
  },
  {
   "cell_type": "code",
   "execution_count": 8,
   "metadata": {},
   "outputs": [
    {
     "data": {
      "text/plain": [
       "[0, 1, 4, 9, 16, 25, 36, 49, 64, 81, 100]"
      ]
     },
     "execution_count": 8,
     "metadata": {},
     "output_type": "execute_result"
    }
   ],
   "source": [
    "squares = [number ** 2 for number in squares]\n",
    "squares"
   ]
  },
  {
   "cell_type": "code",
   "execution_count": 10,
   "metadata": {},
   "outputs": [],
   "source": [
    "import numpy as np"
   ]
  },
  {
   "cell_type": "code",
   "execution_count": 14,
   "metadata": {},
   "outputs": [
    {
     "data": {
      "text/plain": [
       "array([  0,   1,   4,   9,  16,  25,  36,  49,  64,  81, 100], dtype=int32)"
      ]
     },
     "execution_count": 14,
     "metadata": {},
     "output_type": "execute_result"
    }
   ],
   "source": [
    "squares = np.array(range(11))\n",
    "squares ** 2"
   ]
  },
  {
   "cell_type": "code",
   "execution_count": 16,
   "metadata": {},
   "outputs": [
    {
     "data": {
      "text/plain": [
       "array([0, 0, 0, 0, 0, 0, 0, 0, 0, 0, 0])"
      ]
     },
     "execution_count": 16,
     "metadata": {},
     "output_type": "execute_result"
    }
   ],
   "source": [
    "squares - squares"
   ]
  },
  {
   "cell_type": "code",
   "execution_count": 8,
   "metadata": {},
   "outputs": [],
   "source": [
    "# let's take a look at time consideration"
   ]
  },
  {
   "cell_type": "code",
   "execution_count": 22,
   "metadata": {},
   "outputs": [],
   "source": [
    "arr = np.arange(10000000)\n",
    "arr_list = arr.tolist()"
   ]
  },
  {
   "cell_type": "code",
   "execution_count": 23,
   "metadata": {},
   "outputs": [
    {
     "data": {
      "text/plain": [
       "list"
      ]
     },
     "execution_count": 23,
     "metadata": {},
     "output_type": "execute_result"
    }
   ],
   "source": [
    "type(arr_list)"
   ]
  },
  {
   "cell_type": "code",
   "execution_count": 24,
   "metadata": {},
   "outputs": [
    {
     "name": "stdout",
     "output_type": "stream",
     "text": [
      "1.28 s ± 83 ms per loop (mean ± std. dev. of 7 runs, 10 loops each)\n"
     ]
    }
   ],
   "source": [
    "%timeit -n10 y = [value * 5 for value in arr_list]"
   ]
  },
  {
   "cell_type": "code",
   "execution_count": 25,
   "metadata": {},
   "outputs": [
    {
     "name": "stdout",
     "output_type": "stream",
     "text": [
      "20.9 ms ± 1.6 ms per loop (mean ± std. dev. of 7 runs, 10 loops each)\n"
     ]
    }
   ],
   "source": [
    "%timeit -n10 x = arr * 5"
   ]
  },
  {
   "cell_type": "code",
   "execution_count": 30,
   "metadata": {},
   "outputs": [
    {
     "data": {
      "text/plain": [
       "array([[ 0,  1,  2,  3,  4,  5,  6,  7,  8,  9],\n",
       "       [10, 11, 12, 13, 14, 15, 16, 17, 18, 19]])"
      ]
     },
     "execution_count": 30,
     "metadata": {},
     "output_type": "execute_result"
    }
   ],
   "source": [
    "arr_1 = np.arange(20).reshape(2,10)\n",
    "arr_1"
   ]
  },
  {
   "cell_type": "code",
   "execution_count": 32,
   "metadata": {},
   "outputs": [
    {
     "data": {
      "text/plain": [
       "array([ 0,  1,  2,  3,  4,  5,  6,  7,  8,  9, 10, 11, 12, 13, 14, 15, 16,\n",
       "       17, 18, 19])"
      ]
     },
     "execution_count": 32,
     "metadata": {},
     "output_type": "execute_result"
    }
   ],
   "source": [
    "arr_2 = arr_1.reshape(-1)\n",
    "arr_2"
   ]
  },
  {
   "cell_type": "code",
   "execution_count": 33,
   "metadata": {},
   "outputs": [
    {
     "data": {
      "text/plain": [
       "20"
      ]
     },
     "execution_count": 33,
     "metadata": {},
     "output_type": "execute_result"
    }
   ],
   "source": [
    "len(arr_2)"
   ]
  },
  {
   "cell_type": "code",
   "execution_count": 34,
   "metadata": {},
   "outputs": [
    {
     "data": {
      "text/plain": [
       "2"
      ]
     },
     "execution_count": 34,
     "metadata": {},
     "output_type": "execute_result"
    }
   ],
   "source": [
    "len(arr_1)"
   ]
  },
  {
   "cell_type": "code",
   "execution_count": 35,
   "metadata": {},
   "outputs": [
    {
     "data": {
      "text/plain": [
       "20"
      ]
     },
     "execution_count": 35,
     "metadata": {},
     "output_type": "execute_result"
    }
   ],
   "source": [
    "arr_1.size"
   ]
  },
  {
   "cell_type": "code",
   "execution_count": 36,
   "metadata": {},
   "outputs": [
    {
     "data": {
      "text/plain": [
       "(2, 10)"
      ]
     },
     "execution_count": 36,
     "metadata": {},
     "output_type": "execute_result"
    }
   ],
   "source": [
    "arr_1.shape"
   ]
  },
  {
   "cell_type": "code",
   "execution_count": 37,
   "metadata": {},
   "outputs": [
    {
     "data": {
      "text/plain": [
       "2"
      ]
     },
     "execution_count": 37,
     "metadata": {},
     "output_type": "execute_result"
    }
   ],
   "source": [
    "arr_1.ndim"
   ]
  },
  {
   "cell_type": "code",
   "execution_count": 38,
   "metadata": {},
   "outputs": [
    {
     "data": {
      "text/plain": [
       "array([[[ 0,  1,  2],\n",
       "        [ 3,  4,  5],\n",
       "        [ 6,  7,  8]],\n",
       "\n",
       "       [[ 9, 10, 11],\n",
       "        [12, 13, 14],\n",
       "        [15, 16, 17]],\n",
       "\n",
       "       [[18, 19, 20],\n",
       "        [21, 22, 23],\n",
       "        [24, 25, 26]]])"
      ]
     },
     "execution_count": 38,
     "metadata": {},
     "output_type": "execute_result"
    }
   ],
   "source": [
    "three_d = np.arange(27).reshape(3,3,3)\n",
    "three_d"
   ]
  },
  {
   "cell_type": "code",
   "execution_count": 43,
   "metadata": {},
   "outputs": [
    {
     "data": {
      "text/plain": [
       "21"
      ]
     },
     "execution_count": 43,
     "metadata": {},
     "output_type": "execute_result"
    }
   ],
   "source": [
    "three_d[2][1][0]"
   ]
  },
  {
   "cell_type": "code",
   "execution_count": 56,
   "metadata": {},
   "outputs": [
    {
     "data": {
      "text/plain": [
       "array([[ 0,  1,  2,  3,  4],\n",
       "       [ 5,  6,  7,  8,  9],\n",
       "       [10, 11, 12, 13, 14],\n",
       "       [15, 16, 17, 18, 19],\n",
       "       [20, 21, 22, 23, 24]])"
      ]
     },
     "execution_count": 56,
     "metadata": {},
     "output_type": "execute_result"
    }
   ],
   "source": [
    "data = np.arange(25).reshape(5,5)\n",
    "data"
   ]
  },
  {
   "cell_type": "code",
   "execution_count": 65,
   "metadata": {},
   "outputs": [
    {
     "data": {
      "text/plain": [
       "array([10., 11., 12., 13., 14.])"
      ]
     },
     "execution_count": 65,
     "metadata": {},
     "output_type": "execute_result"
    }
   ],
   "source": [
    "means = data.mean(axis = 0)\n",
    "np.median(data, axis = 0)"
   ]
  },
  {
   "cell_type": "code",
   "execution_count": 69,
   "metadata": {},
   "outputs": [
    {
     "data": {
      "text/plain": [
       "-1.6459664259507736"
      ]
     },
     "execution_count": 69,
     "metadata": {},
     "output_type": "execute_result"
    }
   ],
   "source": [
    "randoms = np.random.standard_normal(1000000)\n",
    "p =[2.5, 5, 95, 97.5]\n",
    "np.percentile(randoms, 5)"
   ]
  },
  {
   "cell_type": "code",
   "execution_count": null,
   "metadata": {},
   "outputs": [],
   "source": []
  },
  {
   "cell_type": "code",
   "execution_count": null,
   "metadata": {},
   "outputs": [],
   "source": []
  },
  {
   "cell_type": "code",
   "execution_count": null,
   "metadata": {},
   "outputs": [],
   "source": []
  },
  {
   "cell_type": "code",
   "execution_count": 53,
   "metadata": {},
   "outputs": [
    {
     "data": {
      "text/plain": [
       "array([[1., 0., 0., 0., 0.],\n",
       "       [0., 1., 0., 0., 0.],\n",
       "       [0., 0., 1., 0., 0.],\n",
       "       [0., 0., 0., 1., 0.],\n",
       "       [0., 0., 0., 0., 1.]])"
      ]
     },
     "execution_count": 53,
     "metadata": {},
     "output_type": "execute_result"
    }
   ],
   "source": [
    "# np.zeros, np.ones, np.eye\n",
    "np.ones((5,5,5))\n",
    "np.eye(5)"
   ]
  },
  {
   "cell_type": "code",
   "execution_count": 86,
   "metadata": {},
   "outputs": [
    {
     "data": {
      "text/plain": [
       "(22, 100000)"
      ]
     },
     "execution_count": 86,
     "metadata": {},
     "output_type": "execute_result"
    }
   ],
   "source": [
    "# what about simulating ending values of stock price?\n",
    "r = .00125\n",
    "price = 100\n",
    "vol = .30\n",
    "T = 1 / 252\n",
    "days = 21\n",
    "iterations = 100000\n",
    "S = np.zeros((days + 1, iterations))\n",
    "S.shape"
   ]
  },
  {
   "cell_type": "code",
   "execution_count": 87,
   "metadata": {},
   "outputs": [],
   "source": [
    "S[0] = price\n",
    "for iteration in range(iterations):\n",
    "    for day in range(1, days + 1):\n",
    "        S[day][iteration] = S[day - 1][iteration] * np.exp((r - .5 * vol ** 2)*T + np.sqrt(T) * vol * np.random.standard_normal())"
   ]
  },
  {
   "cell_type": "code",
   "execution_count": 77,
   "metadata": {},
   "outputs": [],
   "source": [
    "import matplotlib.pyplot as plt"
   ]
  },
  {
   "cell_type": "code",
   "execution_count": 88,
   "metadata": {},
   "outputs": [
    {
     "data": {
      "image/png": "[encoded data removed]",
      "text/plain": [
       "<Figure size 432x288 with 1 Axes>"
      ]
     },
     "metadata": {
      "needs_background": "light"
     },
     "output_type": "display_data"
    }
   ],
   "source": [
    "plt.plot(S[:, 5:11])\n",
    "plt.grid(True, alpha= .5)"
   ]
  },
  {
   "cell_type": "code",
   "execution_count": 89,
   "metadata": {},
   "outputs": [
    {
     "data": {
      "image/png": "[encoded data removed]",
      "text/plain": [
       "<Figure size 432x288 with 1 Axes>"
      ]
     },
     "metadata": {
      "needs_background": "light"
     },
     "output_type": "display_data"
    }
   ],
   "source": [
    "plt.hist(S[21, :], bins = 50, edgecolor = 'w');"
   ]
  },
  {
   "cell_type": "code",
   "execution_count": null,
   "metadata": {},
   "outputs": [],
   "source": []
  },
  {
   "cell_type": "code",
   "execution_count": null,
   "metadata": {},
   "outputs": [],
   "source": []
  },
  {
   "cell_type": "code",
   "execution_count": null,
   "metadata": {},
   "outputs": [],
   "source": []
  },
  {
   "cell_type": "code",
   "execution_count": 90,
   "metadata": {},
   "outputs": [],
   "source": [
    "# instantaneous return \n",
    "import pandas_datareader as pdr"
   ]
  },
  {
   "cell_type": "code",
   "execution_count": 91,
   "metadata": {},
   "outputs": [
    {
     "data": {
      "text/html": [
       "<div>\n",
       "<style scoped>\n",
       "    .dataframe tbody tr th:only-of-type {\n",
       "        vertical-align: middle;\n",
       "    }\n",
       "\n",
       "    .dataframe tbody tr th {\n",
       "        vertical-align: top;\n",
       "    }\n",
       "\n",
       "    .dataframe thead th {\n",
       "        text-align: right;\n",
       "    }\n",
       "</style>\n",
       "<table border=\"1\" class=\"dataframe\">\n",
       "  <thead>\n",
       "    <tr style=\"text-align: right;\">\n",
       "      <th></th>\n",
       "      <th>High</th>\n",
       "      <th>Low</th>\n",
       "      <th>Open</th>\n",
       "      <th>Close</th>\n",
       "      <th>Volume</th>\n",
       "      <th>Adj Close</th>\n",
       "    </tr>\n",
       "    <tr>\n",
       "      <th>Date</th>\n",
       "      <th></th>\n",
       "      <th></th>\n",
       "      <th></th>\n",
       "      <th></th>\n",
       "      <th></th>\n",
       "      <th></th>\n",
       "    </tr>\n",
       "  </thead>\n",
       "  <tbody>\n",
       "    <tr>\n",
       "      <th>2021-03-01</th>\n",
       "      <td>719.000000</td>\n",
       "      <td>685.049988</td>\n",
       "      <td>690.109985</td>\n",
       "      <td>718.429993</td>\n",
       "      <td>27136200</td>\n",
       "      <td>718.429993</td>\n",
       "    </tr>\n",
       "    <tr>\n",
       "      <th>2021-03-02</th>\n",
       "      <td>721.109985</td>\n",
       "      <td>685.000000</td>\n",
       "      <td>718.280029</td>\n",
       "      <td>686.440002</td>\n",
       "      <td>23732200</td>\n",
       "      <td>686.440002</td>\n",
       "    </tr>\n",
       "    <tr>\n",
       "      <th>2021-03-03</th>\n",
       "      <td>700.700012</td>\n",
       "      <td>651.710022</td>\n",
       "      <td>687.989990</td>\n",
       "      <td>653.200012</td>\n",
       "      <td>30208000</td>\n",
       "      <td>653.200012</td>\n",
       "    </tr>\n",
       "    <tr>\n",
       "      <th>2021-03-04</th>\n",
       "      <td>668.450012</td>\n",
       "      <td>600.000000</td>\n",
       "      <td>655.799988</td>\n",
       "      <td>621.440002</td>\n",
       "      <td>65919500</td>\n",
       "      <td>621.440002</td>\n",
       "    </tr>\n",
       "    <tr>\n",
       "      <th>2021-03-05</th>\n",
       "      <td>627.840027</td>\n",
       "      <td>539.489990</td>\n",
       "      <td>626.059998</td>\n",
       "      <td>597.950012</td>\n",
       "      <td>89396500</td>\n",
       "      <td>597.950012</td>\n",
       "    </tr>\n",
       "    <tr>\n",
       "      <th>2021-03-08</th>\n",
       "      <td>620.130005</td>\n",
       "      <td>558.789978</td>\n",
       "      <td>600.549988</td>\n",
       "      <td>563.000000</td>\n",
       "      <td>51787000</td>\n",
       "      <td>563.000000</td>\n",
       "    </tr>\n",
       "    <tr>\n",
       "      <th>2021-03-09</th>\n",
       "      <td>678.090027</td>\n",
       "      <td>595.210022</td>\n",
       "      <td>608.179993</td>\n",
       "      <td>673.580017</td>\n",
       "      <td>67523300</td>\n",
       "      <td>673.580017</td>\n",
       "    </tr>\n",
       "    <tr>\n",
       "      <th>2021-03-10</th>\n",
       "      <td>717.849976</td>\n",
       "      <td>655.059998</td>\n",
       "      <td>700.299988</td>\n",
       "      <td>668.059998</td>\n",
       "      <td>60605700</td>\n",
       "      <td>668.059998</td>\n",
       "    </tr>\n",
       "    <tr>\n",
       "      <th>2021-03-11</th>\n",
       "      <td>702.500000</td>\n",
       "      <td>677.179993</td>\n",
       "      <td>699.400024</td>\n",
       "      <td>699.599976</td>\n",
       "      <td>36253900</td>\n",
       "      <td>699.599976</td>\n",
       "    </tr>\n",
       "    <tr>\n",
       "      <th>2021-03-12</th>\n",
       "      <td>694.880005</td>\n",
       "      <td>666.140015</td>\n",
       "      <td>670.000000</td>\n",
       "      <td>693.729980</td>\n",
       "      <td>33583800</td>\n",
       "      <td>693.729980</td>\n",
       "    </tr>\n",
       "    <tr>\n",
       "      <th>2021-03-15</th>\n",
       "      <td>713.179993</td>\n",
       "      <td>684.039978</td>\n",
       "      <td>694.090027</td>\n",
       "      <td>707.940002</td>\n",
       "      <td>29335600</td>\n",
       "      <td>707.940002</td>\n",
       "    </tr>\n",
       "    <tr>\n",
       "      <th>2021-03-16</th>\n",
       "      <td>707.919983</td>\n",
       "      <td>671.000000</td>\n",
       "      <td>703.349976</td>\n",
       "      <td>676.880005</td>\n",
       "      <td>31903400</td>\n",
       "      <td>676.880005</td>\n",
       "    </tr>\n",
       "    <tr>\n",
       "      <th>2021-03-17</th>\n",
       "      <td>703.729980</td>\n",
       "      <td>651.010010</td>\n",
       "      <td>656.869995</td>\n",
       "      <td>701.809998</td>\n",
       "      <td>40083300</td>\n",
       "      <td>701.809998</td>\n",
       "    </tr>\n",
       "    <tr>\n",
       "      <th>2021-03-18</th>\n",
       "      <td>689.229980</td>\n",
       "      <td>652.000000</td>\n",
       "      <td>684.289978</td>\n",
       "      <td>653.159973</td>\n",
       "      <td>33224800</td>\n",
       "      <td>653.159973</td>\n",
       "    </tr>\n",
       "    <tr>\n",
       "      <th>2021-03-19</th>\n",
       "      <td>657.229980</td>\n",
       "      <td>624.619995</td>\n",
       "      <td>646.599976</td>\n",
       "      <td>654.869995</td>\n",
       "      <td>42827400</td>\n",
       "      <td>654.869995</td>\n",
       "    </tr>\n",
       "    <tr>\n",
       "      <th>2021-03-22</th>\n",
       "      <td>699.619995</td>\n",
       "      <td>668.750000</td>\n",
       "      <td>684.590027</td>\n",
       "      <td>670.000000</td>\n",
       "      <td>39512200</td>\n",
       "      <td>670.000000</td>\n",
       "    </tr>\n",
       "    <tr>\n",
       "      <th>2021-03-23</th>\n",
       "      <td>677.799988</td>\n",
       "      <td>657.510010</td>\n",
       "      <td>675.770020</td>\n",
       "      <td>662.159973</td>\n",
       "      <td>30491900</td>\n",
       "      <td>662.159973</td>\n",
       "    </tr>\n",
       "    <tr>\n",
       "      <th>2021-03-24</th>\n",
       "      <td>668.020020</td>\n",
       "      <td>630.109985</td>\n",
       "      <td>667.909973</td>\n",
       "      <td>630.270020</td>\n",
       "      <td>33684600</td>\n",
       "      <td>630.270020</td>\n",
       "    </tr>\n",
       "    <tr>\n",
       "      <th>2021-03-25</th>\n",
       "      <td>645.460022</td>\n",
       "      <td>609.969971</td>\n",
       "      <td>613.000000</td>\n",
       "      <td>640.390015</td>\n",
       "      <td>38858703</td>\n",
       "      <td>640.390015</td>\n",
       "    </tr>\n",
       "  </tbody>\n",
       "</table>\n",
       "</div>"
      ],
      "text/plain": [
       "                  High         Low        Open       Close    Volume  \\\n",
       "Date                                                                   \n",
       "2021-03-01  719.000000  685.049988  690.109985  718.429993  27136200   \n",
       "2021-03-02  721.109985  685.000000  718.280029  686.440002  23732200   \n",
       "2021-03-03  700.700012  651.710022  687.989990  653.200012  30208000   \n",
       "2021-03-04  668.450012  600.000000  655.799988  621.440002  65919500   \n",
       "2021-03-05  627.840027  539.489990  626.059998  597.950012  89396500   \n",
       "2021-03-08  620.130005  558.789978  600.549988  563.000000  51787000   \n",
       "2021-03-09  678.090027  595.210022  608.179993  673.580017  67523300   \n",
       "2021-03-10  717.849976  655.059998  700.299988  668.059998  60605700   \n",
       "2021-03-11  702.500000  677.179993  699.400024  699.599976  36253900   \n",
       "2021-03-12  694.880005  666.140015  670.000000  693.729980  33583800   \n",
       "2021-03-15  713.179993  684.039978  694.090027  707.940002  29335600   \n",
       "2021-03-16  707.919983  671.000000  703.349976  676.880005  31903400   \n",
       "2021-03-17  703.729980  651.010010  656.869995  701.809998  40083300   \n",
       "2021-03-18  689.229980  652.000000  684.289978  653.159973  33224800   \n",
       "2021-03-19  657.229980  624.619995  646.599976  654.869995  42827400   \n",
       "2021-03-22  699.619995  668.750000  684.590027  670.000000  39512200   \n",
       "2021-03-23  677.799988  657.510010  675.770020  662.159973  30491900   \n",
       "2021-03-24  668.020020  630.109985  667.909973  630.270020  33684600   \n",
       "2021-03-25  645.460022  609.969971  613.000000  640.390015  38858703   \n",
       "\n",
       "             Adj Close  \n",
       "Date                    \n",
       "2021-03-01  718.429993  \n",
       "2021-03-02  686.440002  \n",
       "2021-03-03  653.200012  \n",
       "2021-03-04  621.440002  \n",
       "2021-03-05  597.950012  \n",
       "2021-03-08  563.000000  \n",
       "2021-03-09  673.580017  \n",
       "2021-03-10  668.059998  \n",
       "2021-03-11  699.599976  \n",
       "2021-03-12  693.729980  \n",
       "2021-03-15  707.940002  \n",
       "2021-03-16  676.880005  \n",
       "2021-03-17  701.809998  \n",
       "2021-03-18  653.159973  \n",
       "2021-03-19  654.869995  \n",
       "2021-03-22  670.000000  \n",
       "2021-03-23  662.159973  \n",
       "2021-03-24  630.270020  \n",
       "2021-03-25  640.390015  "
      ]
     },
     "execution_count": 91,
     "metadata": {},
     "output_type": "execute_result"
    }
   ],
   "source": [
    "tsla = pdr.get_data_yahoo('TSLA', '20210301')\n",
    "tsla"
   ]
  },
  {
   "cell_type": "code",
   "execution_count": 92,
   "metadata": {},
   "outputs": [
    {
     "data": {
      "text/plain": [
       "Date\n",
       "2021-03-01           NaN\n",
       "2021-03-02    -31.989990\n",
       "2021-03-03    -33.239990\n",
       "2021-03-04    -31.760010\n",
       "2021-03-05    -23.489990\n",
       "2021-03-08    -34.950012\n",
       "2021-03-09    110.580017\n",
       "2021-03-10     -5.520020\n",
       "2021-03-11     31.539978\n",
       "2021-03-12     -5.869995\n",
       "2021-03-15     14.210022\n",
       "2021-03-16    -31.059998\n",
       "2021-03-17     24.929993\n",
       "2021-03-18    -48.650024\n",
       "2021-03-19      1.710022\n",
       "2021-03-22     15.130005\n",
       "2021-03-23     -7.840027\n",
       "2021-03-24    -31.889954\n",
       "2021-03-25     10.119995\n",
       "Name: Close, dtype: float64"
      ]
     },
     "execution_count": 92,
     "metadata": {},
     "output_type": "execute_result"
    }
   ],
   "source": [
    "tsla['Close'].diff()"
   ]
  },
  {
   "cell_type": "code",
   "execution_count": 93,
   "metadata": {},
   "outputs": [
    {
     "data": {
      "text/plain": [
       "Date\n",
       "2021-03-01         NaN\n",
       "2021-03-02   -0.045549\n",
       "2021-03-03   -0.049635\n",
       "2021-03-04   -0.049844\n",
       "2021-03-05   -0.038532\n",
       "2021-03-08   -0.060228\n",
       "2021-03-09    0.179327\n",
       "2021-03-10   -0.008229\n",
       "2021-03-11    0.046131\n",
       "2021-03-12   -0.008426\n",
       "2021-03-15    0.020277\n",
       "2021-03-16   -0.044865\n",
       "2021-03-17    0.036169\n",
       "2021-03-18   -0.071841\n",
       "2021-03-19    0.002615\n",
       "2021-03-22    0.022841\n",
       "2021-03-23   -0.011771\n",
       "2021-03-24   -0.049359\n",
       "2021-03-25    0.015929\n",
       "Name: Close, dtype: float64"
      ]
     },
     "execution_count": 93,
     "metadata": {},
     "output_type": "execute_result"
    }
   ],
   "source": [
    "np.log(tsla.Close).diff()"
   ]
  },
  {
   "cell_type": "code",
   "execution_count": null,
   "metadata": {},
   "outputs": [],
   "source": []
  },
  {
   "cell_type": "code",
   "execution_count": null,
   "metadata": {},
   "outputs": [],
   "source": []
  },
  {
   "cell_type": "code",
   "execution_count": null,
   "metadata": {},
   "outputs": [],
   "source": []
  },
  {
   "cell_type": "code",
   "execution_count": null,
   "metadata": {},
   "outputs": [],
   "source": []
  }
 ],
 "metadata": {
  "kernelspec": {
   "display_name": "Python 3",
   "language": "python",
   "name": "python3"
  },
  "language_info": {
   "codemirror_mode": {
    "name": "ipython",
    "version": 3
   },
   "file_extension": ".py",
   "mimetype": "text/x-python",
   "name": "python",
   "nbconvert_exporter": "python",
   "pygments_lexer": "ipython3",
   "version": "3.8.5"
  }
 },
 "nbformat": 4,
 "nbformat_minor": 4
}
